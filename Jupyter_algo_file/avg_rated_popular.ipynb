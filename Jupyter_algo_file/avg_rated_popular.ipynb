{
 "cells": [
  {
   "cell_type": "markdown",
   "metadata": {},
   "source": [
    "AVERAGE WEIGHTED MODEL OF RECOMMENDATION SYSTEM\n"
   ]
  },
  {
   "cell_type": "markdown",
   "metadata": {},
   "source": [
    "THIS ALGORITHM IS MAINLY BASED ON SEARCHING , SORTING AND BASIC IMPLEMENTATION , FORMULA FOR GETTING AVERAGE WEIGHTS RATING\n",
    "\n",
    "AVG WEIGHTED RATING = ((avg_Rating * vote_cnt)+(vote_Mean * min_Votes))/(vote_cnt+min_Votes)"
   ]
  },
  {
   "cell_type": "code",
   "execution_count": 58,
   "metadata": {},
   "outputs": [],
   "source": [
    "# Imports\n",
    "import pandas as pandas_lib\n",
    "import numpy as numpy_lib\n",
    "import matplotlib.pyplot as matplotlib_lib\n",
    "import seaborn as seaborn_lib\n",
    "import pickle\n",
    "import requests"
   ]
  },
  {
   "cell_type": "markdown",
   "metadata": {},
   "source": []
  },
  {
   "cell_type": "code",
   "execution_count": 59,
   "metadata": {},
   "outputs": [],
   "source": [
    "data = pandas_lib.read_csv(r'D:\\disney-plus-clone-master\\Datasets\\clean_data.csv')"
   ]
  },
  {
   "cell_type": "markdown",
   "metadata": {},
   "source": [
    "TIME TO GET THE AVERAGE WEIGHT"
   ]
  },
  {
   "cell_type": "code",
   "execution_count": 60,
   "metadata": {},
   "outputs": [],
   "source": [
    "vote_Cnt = data['vote_count']"
   ]
  },
  {
   "cell_type": "code",
   "execution_count": 61,
   "metadata": {},
   "outputs": [
    {
     "name": "stderr",
     "output_type": "stream",
     "text": [
      "c:\\Users\\Lokesh\\AppData\\Local\\Programs\\Python\\Python310\\lib\\site-packages\\seaborn\\_decorators.py:36: FutureWarning: Pass the following variable as a keyword arg: x. From version 0.12, the only valid positional argument will be `data`, and passing other arguments without an explicit keyword will result in an error or misinterpretation.\n",
      "  warnings.warn(\n"
     ]
    },
    {
     "data": {
      "text/plain": [
       "<AxesSubplot:xlabel='vote_count'>"
      ]
     },
     "execution_count": 61,
     "metadata": {},
     "output_type": "execute_result"
    },
    {
     "data": {
      "image/png": "[encoded data removed]",
      "text/plain": [
       "<Figure size 1152x864 with 1 Axes>"
      ]
     },
     "metadata": {
      "needs_background": "light"
     },
     "output_type": "display_data"
    }
   ],
   "source": [
    "matplotlib_lib.figure(figsize=(16,12))\n",
    "seaborn_lib.boxplot(vote_Cnt)"
   ]
  },
  {
   "cell_type": "code",
   "execution_count": 62,
   "metadata": {},
   "outputs": [
    {
     "data": {
      "text/plain": [
       "1300.6999999999998"
      ]
     },
     "execution_count": 62,
     "metadata": {},
     "output_type": "execute_result"
    }
   ],
   "source": [
    "# it is a threshold value for 85 percentile \n",
    "# min_votes is the minimum no of votes required for each movie\n",
    "# to be in the top 15 percent movies on the basis of vote counts\n",
    "# it is a approach to get the better results\n",
    "min_Votes = vote_Cnt.quantile(0.85)\n",
    "min_Votes"
   ]
  },
  {
   "cell_type": "code",
   "execution_count": 63,
   "metadata": {},
   "outputs": [
    {
     "data": {
      "text/plain": [
       "(722, 19)"
      ]
     },
     "execution_count": 63,
     "metadata": {},
     "output_type": "execute_result"
    }
   ],
   "source": [
    "changed_data = data[data['vote_count']>=1300]\n",
    "changed_data.shape"
   ]
  },
  {
   "cell_type": "code",
   "execution_count": 64,
   "metadata": {},
   "outputs": [],
   "source": [
    "vote_Mean = changed_data['vote_average'].mean()"
   ]
  },
  {
   "cell_type": "markdown",
   "metadata": {},
   "source": [
    "FIND AVERAGE WEIGHTED RATING USING VARIABLES MADE IN LAST CODES\n"
   ]
  },
  {
   "cell_type": "code",
   "execution_count": 65,
   "metadata": {},
   "outputs": [],
   "source": [
    "def weighted_avg_rating(x):\n",
    "    vote_cnt = x['vote_count']\n",
    "    avg_Rating = x['vote_average']\n",
    "    return ((avg_Rating*vote_cnt)+(vote_Mean*min_Votes))/(vote_cnt+min_Votes)"
   ]
  },
  {
   "cell_type": "code",
   "execution_count": 66,
   "metadata": {},
   "outputs": [
    {
     "name": "stderr",
     "output_type": "stream",
     "text": [
      "C:\\Users\\Lokesh\\AppData\\Local\\Temp\\ipykernel_29772\\1690476755.py:1: SettingWithCopyWarning: \n",
      "A value is trying to be set on a copy of a slice from a DataFrame.\n",
      "Try using .loc[row_indexer,col_indexer] = value instead\n",
      "\n",
      "See the caveats in the documentation: https://pandas.pydata.org/pandas-docs/stable/user_guide/indexing.html#returning-a-view-versus-a-copy\n",
      "  changed_data['avg_weighted'] = changed_data.apply(weighted_avg_rating,axis=1)\n"
     ]
    }
   ],
   "source": [
    "changed_data['avg_weighted'] = changed_data.apply(weighted_avg_rating,axis=1)"
   ]
  },
  {
   "cell_type": "code",
   "execution_count": 67,
   "metadata": {},
   "outputs": [
    {
     "data": {
      "text/html": [
       "<div>\n",
       "<style scoped>\n",
       "    .dataframe tbody tr th:only-of-type {\n",
       "        vertical-align: middle;\n",
       "    }\n",
       "\n",
       "    .dataframe tbody tr th {\n",
       "        vertical-align: top;\n",
       "    }\n",
       "\n",
       "    .dataframe thead th {\n",
       "        text-align: right;\n",
       "    }\n",
       "</style>\n",
       "<table border=\"1\" class=\"dataframe\">\n",
       "  <thead>\n",
       "    <tr style=\"text-align: right;\">\n",
       "      <th></th>\n",
       "      <th>Unnamed: 0</th>\n",
       "      <th>budget</th>\n",
       "      <th>genres</th>\n",
       "      <th>id</th>\n",
       "      <th>keywords</th>\n",
       "      <th>original_language</th>\n",
       "      <th>original_title</th>\n",
       "      <th>overview</th>\n",
       "      <th>popularity</th>\n",
       "      <th>production_companies</th>\n",
       "      <th>release_date</th>\n",
       "      <th>revenue</th>\n",
       "      <th>runtime</th>\n",
       "      <th>spoken_languages</th>\n",
       "      <th>tagline</th>\n",
       "      <th>vote_average</th>\n",
       "      <th>vote_count</th>\n",
       "      <th>cast</th>\n",
       "      <th>crew</th>\n",
       "      <th>avg_weighted</th>\n",
       "    </tr>\n",
       "  </thead>\n",
       "  <tbody>\n",
       "    <tr>\n",
       "      <th>1881</th>\n",
       "      <td>1881</td>\n",
       "      <td>25000000</td>\n",
       "      <td>[{\"id\": 18, \"name\": \"Drama\"}, {\"id\": 80, \"name...</td>\n",
       "      <td>278</td>\n",
       "      <td>[{\"id\": 378, \"name\": \"prison\"}, {\"id\": 417, \"n...</td>\n",
       "      <td>en</td>\n",
       "      <td>The Shawshank Redemption</td>\n",
       "      <td>Framed in the 1940s for the double murder of h...</td>\n",
       "      <td>136.747729</td>\n",
       "      <td>[{\"name\": \"Castle Rock Entertainment\", \"id\": 97}]</td>\n",
       "      <td>1994-09-23</td>\n",
       "      <td>28341469</td>\n",
       "      <td>142.0</td>\n",
       "      <td>[{\"iso_639_1\": \"en\", \"name\": \"English\"}]</td>\n",
       "      <td>Fear can hold you prisoner. Hope can set you f...</td>\n",
       "      <td>8.5</td>\n",
       "      <td>8205</td>\n",
       "      <td>[{\"cast_id\": 3, \"character\": \"Andy Dufresne\", ...</td>\n",
       "      <td>[{\"credit_id\": \"52fe4231c3a36847f800b153\", \"de...</td>\n",
       "      <td>8.272083</td>\n",
       "    </tr>\n",
       "  </tbody>\n",
       "</table>\n",
       "</div>"
      ],
      "text/plain": [
       "      Unnamed: 0    budget                                             genres  \\\n",
       "1881        1881  25000000  [{\"id\": 18, \"name\": \"Drama\"}, {\"id\": 80, \"name...   \n",
       "\n",
       "       id                                           keywords  \\\n",
       "1881  278  [{\"id\": 378, \"name\": \"prison\"}, {\"id\": 417, \"n...   \n",
       "\n",
       "     original_language            original_title  \\\n",
       "1881                en  The Shawshank Redemption   \n",
       "\n",
       "                                               overview  popularity  \\\n",
       "1881  Framed in the 1940s for the double murder of h...  136.747729   \n",
       "\n",
       "                                   production_companies release_date  \\\n",
       "1881  [{\"name\": \"Castle Rock Entertainment\", \"id\": 97}]   1994-09-23   \n",
       "\n",
       "       revenue  runtime                          spoken_languages  \\\n",
       "1881  28341469    142.0  [{\"iso_639_1\": \"en\", \"name\": \"English\"}]   \n",
       "\n",
       "                                                tagline  vote_average  \\\n",
       "1881  Fear can hold you prisoner. Hope can set you f...           8.5   \n",
       "\n",
       "      vote_count                                               cast  \\\n",
       "1881        8205  [{\"cast_id\": 3, \"character\": \"Andy Dufresne\", ...   \n",
       "\n",
       "                                                   crew  avg_weighted  \n",
       "1881  [{\"credit_id\": \"52fe4231c3a36847f800b153\", \"de...      8.272083  "
      ]
     },
     "execution_count": 67,
     "metadata": {},
     "output_type": "execute_result"
    }
   ],
   "source": [
    "changed_data.sort_values('avg_weighted',ascending=False).head(1)"
   ]
  },
  {
   "cell_type": "markdown",
   "metadata": {},
   "source": [
    "NOW CHANGED DATA IS SORTED ON THE BASIS OF AVERAGE WEIGHT\n"
   ]
  },
  {
   "cell_type": "code",
   "execution_count": 68,
   "metadata": {},
   "outputs": [],
   "source": [
    "avg_weighted_movies = changed_data['id'].head(20)"
   ]
  },
  {
   "cell_type": "code",
   "execution_count": 69,
   "metadata": {},
   "outputs": [],
   "source": [
    "arr = []\n",
    "for i in avg_weighted_movies:\n",
    "    arr.append(i)"
   ]
  },
  {
   "cell_type": "code",
   "execution_count": 70,
   "metadata": {},
   "outputs": [
    {
     "data": {
      "text/plain": [
       "[19995,\n",
       " 285,\n",
       " 206647,\n",
       " 49026,\n",
       " 49529,\n",
       " 559,\n",
       " 38757,\n",
       " 99861,\n",
       " 767,\n",
       " 209112,\n",
       " 1452,\n",
       " 10764,\n",
       " 58,\n",
       " 57201,\n",
       " 49521,\n",
       " 2454,\n",
       " 24428,\n",
       " 1865,\n",
       " 41154,\n",
       " 122917]"
      ]
     },
     "execution_count": 70,
     "metadata": {},
     "output_type": "execute_result"
    }
   ],
   "source": [
    "# THIS ARE TMDB IDS OF TOP AVERAGE WEIGHTED MOVIES\n",
    "arr"
   ]
  },
  {
   "cell_type": "code",
   "execution_count": 71,
   "metadata": {},
   "outputs": [],
   "source": [
    "\n",
    "def fetch_5_det(movie_id):\n",
    "    apip = \"https://api.themoviedb.org/3/movie/{}?api_key=99ffc5d2819f29106760b616189e633a\".format(\n",
    "        movie_id)\n",
    "    data = requests.get(apip)\n",
    "    data = data.json()\n",
    "    poster_path = data['poster_path']\n",
    "    poster_link = \"https://image.tmdb.org/t/p/w500\" + poster_path\n",
    "    mov_year = data['release_date']\n",
    "    mov_time = data['runtime']\n",
    "    mov_vote = data['vote_average']\n",
    "    mov_name = data['original_title']\n",
    "    mov_over = data['overview']\n",
    "    return poster_link, mov_year, mov_time, mov_vote , mov_name , mov_over"
   ]
  },
  {
   "cell_type": "code",
   "execution_count": 74,
   "metadata": {},
   "outputs": [],
   "source": [
    "\n",
    "most_rated_det = [[],[],[],[],[],[]]\n",
    "for i in arr:\n",
    "    pic , year , dur , rating , name, overvie = fetch_5_det(i)\n",
    "    most_rated_det[0].append(pic)\n",
    "    most_rated_det[1].append(name)\n",
    "    most_rated_det[2].append(dur)\n",
    "    most_rated_det[3].append(year)\n",
    "    most_rated_det[4].append(rating)\n",
    "    most_rated_det[5].append(overvie)"
   ]
  },
  {
   "cell_type": "markdown",
   "metadata": {},
   "source": [
    "used but now commented so that when you run , it don't create any extra files\n"
   ]
  },
  {
   "cell_type": "code",
   "execution_count": 75,
   "metadata": {},
   "outputs": [],
   "source": [
    "pickle.dump(most_rated_det,open('most_rated.pkl','wb'))"
   ]
  },
  {
   "cell_type": "code",
   "execution_count": 76,
   "metadata": {},
   "outputs": [
    {
     "data": {
      "text/plain": [
       "[7.5,\n",
       " 7.2,\n",
       " 6.5,\n",
       " 7.8,\n",
       " 6.2,\n",
       " 6.4,\n",
       " 7.6,\n",
       " 7.3,\n",
       " 7.7,\n",
       " 5.9,\n",
       " 5.7,\n",
       " 6.3,\n",
       " 7.3,\n",
       " 6.1,\n",
       " 6.6,\n",
       " 6.6,\n",
       " 7.7,\n",
       " 6.5,\n",
       " 6.5,\n",
       " 7.3]"
      ]
     },
     "execution_count": 76,
     "metadata": {},
     "output_type": "execute_result"
    }
   ],
   "source": [
    "most_rated_det[4]"
   ]
  },
  {
   "cell_type": "markdown",
   "metadata": {},
   "source": [
    "LETS FIND MOST POPULAR"
   ]
  },
  {
   "cell_type": "code",
   "execution_count": 77,
   "metadata": {},
   "outputs": [],
   "source": [
    "pop = data.sort_values('popularity' ,ascending=False)"
   ]
  },
  {
   "cell_type": "code",
   "execution_count": 78,
   "metadata": {},
   "outputs": [
    {
     "data": {
      "text/html": [
       "<div>\n",
       "<style scoped>\n",
       "    .dataframe tbody tr th:only-of-type {\n",
       "        vertical-align: middle;\n",
       "    }\n",
       "\n",
       "    .dataframe tbody tr th {\n",
       "        vertical-align: top;\n",
       "    }\n",
       "\n",
       "    .dataframe thead th {\n",
       "        text-align: right;\n",
       "    }\n",
       "</style>\n",
       "<table border=\"1\" class=\"dataframe\">\n",
       "  <thead>\n",
       "    <tr style=\"text-align: right;\">\n",
       "      <th></th>\n",
       "      <th>Unnamed: 0</th>\n",
       "      <th>budget</th>\n",
       "      <th>genres</th>\n",
       "      <th>id</th>\n",
       "      <th>keywords</th>\n",
       "      <th>original_language</th>\n",
       "      <th>original_title</th>\n",
       "      <th>overview</th>\n",
       "      <th>popularity</th>\n",
       "      <th>production_companies</th>\n",
       "      <th>release_date</th>\n",
       "      <th>revenue</th>\n",
       "      <th>runtime</th>\n",
       "      <th>spoken_languages</th>\n",
       "      <th>tagline</th>\n",
       "      <th>vote_average</th>\n",
       "      <th>vote_count</th>\n",
       "      <th>cast</th>\n",
       "      <th>crew</th>\n",
       "    </tr>\n",
       "  </thead>\n",
       "  <tbody>\n",
       "    <tr>\n",
       "      <th>546</th>\n",
       "      <td>546</td>\n",
       "      <td>74000000</td>\n",
       "      <td>[{\"id\": 10751, \"name\": \"Family\"}, {\"id\": 16, \"...</td>\n",
       "      <td>211672</td>\n",
       "      <td>[{\"id\": 3487, \"name\": \"assistant\"}, {\"id\": 179...</td>\n",
       "      <td>en</td>\n",
       "      <td>Minions</td>\n",
       "      <td>Minions Stuart, Kevin and Bob are recruited by...</td>\n",
       "      <td>875.581305</td>\n",
       "      <td>[{\"name\": \"Universal Pictures\", \"id\": 33}, {\"n...</td>\n",
       "      <td>2015-06-17</td>\n",
       "      <td>1156730962</td>\n",
       "      <td>91.0</td>\n",
       "      <td>[{\"iso_639_1\": \"en\", \"name\": \"English\"}]</td>\n",
       "      <td>Before Gru, they had a history of bad bosses</td>\n",
       "      <td>6.4</td>\n",
       "      <td>4571</td>\n",
       "      <td>[{\"cast_id\": 22, \"character\": \"Scarlet Overkil...</td>\n",
       "      <td>[{\"credit_id\": \"5431b2b10e0a2656e20026c7\", \"de...</td>\n",
       "    </tr>\n",
       "  </tbody>\n",
       "</table>\n",
       "</div>"
      ],
      "text/plain": [
       "     Unnamed: 0    budget                                             genres  \\\n",
       "546         546  74000000  [{\"id\": 10751, \"name\": \"Family\"}, {\"id\": 16, \"...   \n",
       "\n",
       "         id                                           keywords  \\\n",
       "546  211672  [{\"id\": 3487, \"name\": \"assistant\"}, {\"id\": 179...   \n",
       "\n",
       "    original_language original_title  \\\n",
       "546                en        Minions   \n",
       "\n",
       "                                              overview  popularity  \\\n",
       "546  Minions Stuart, Kevin and Bob are recruited by...  875.581305   \n",
       "\n",
       "                                  production_companies release_date  \\\n",
       "546  [{\"name\": \"Universal Pictures\", \"id\": 33}, {\"n...   2015-06-17   \n",
       "\n",
       "        revenue  runtime                          spoken_languages  \\\n",
       "546  1156730962     91.0  [{\"iso_639_1\": \"en\", \"name\": \"English\"}]   \n",
       "\n",
       "                                          tagline  vote_average  vote_count  \\\n",
       "546  Before Gru, they had a history of bad bosses           6.4        4571   \n",
       "\n",
       "                                                  cast  \\\n",
       "546  [{\"cast_id\": 22, \"character\": \"Scarlet Overkil...   \n",
       "\n",
       "                                                  crew  \n",
       "546  [{\"credit_id\": \"5431b2b10e0a2656e20026c7\", \"de...  "
      ]
     },
     "execution_count": 78,
     "metadata": {},
     "output_type": "execute_result"
    }
   ],
   "source": [
    "pop.head(1)"
   ]
  },
  {
   "cell_type": "code",
   "execution_count": 80,
   "metadata": {},
   "outputs": [],
   "source": [
    "feat = ['original_title','popularity','vote_count','vote_average']"
   ]
  },
  {
   "cell_type": "code",
   "execution_count": 79,
   "metadata": {},
   "outputs": [
    {
     "data": {
      "text/plain": [
       "original_title      Deadpool\n",
       "popularity        514.569956\n",
       "vote_count             10995\n",
       "vote_average             7.4\n",
       "Name: 788, dtype: object"
      ]
     },
     "execution_count": 79,
     "metadata": {},
     "output_type": "execute_result"
    }
   ],
   "source": [
    "pop[feat].iloc[2]"
   ]
  },
  {
   "cell_type": "code",
   "execution_count": 81,
   "metadata": {},
   "outputs": [],
   "source": [
    "arr2 = pop['id'].head(20) "
   ]
  },
  {
   "cell_type": "code",
   "execution_count": 82,
   "metadata": {},
   "outputs": [
    {
     "name": "stdout",
     "output_type": "stream",
     "text": [
      "211672\n",
      "157336\n",
      "293660\n",
      "118340\n",
      "76341\n",
      "135397\n",
      "22\n",
      "119450\n",
      "131631\n",
      "177572\n",
      "87101\n",
      "271110\n",
      "244786\n",
      "155\n",
      "286217\n",
      "27205\n",
      "109445\n",
      "209112\n",
      "19995\n",
      "550\n"
     ]
    }
   ],
   "source": [
    "arr2\n",
    "for i in arr2:\n",
    "    print(i)"
   ]
  },
  {
   "cell_type": "code",
   "execution_count": 84,
   "metadata": {},
   "outputs": [],
   "source": [
    "most_pop_det = [[],[],[],[],[],[]]\n",
    "for i in arr2:\n",
    "    pic , year , dur , rating , name, overvie = fetch_5_det(i)\n",
    "    most_pop_det[0].append(pic)\n",
    "    most_pop_det[1].append(name)\n",
    "    most_pop_det[2].append(dur)\n",
    "    most_pop_det[3].append(year)\n",
    "    most_pop_det[4].append(rating)\n",
    "    most_pop_det[5].append(overvie)"
   ]
  },
  {
   "cell_type": "code",
   "execution_count": null,
   "metadata": {},
   "outputs": [
    {
     "data": {
      "text/plain": [
       "['https://image.tmdb.org/t/p/w500/vlOgaxUiMOA8sPDG9n3VhQabnEi.jpg',\n",
       " 'https://image.tmdb.org/t/p/w500/gEU2QniE6E77NI6lCU6MxlNBvIx.jpg',\n",
       " 'https://image.tmdb.org/t/p/w500/fSRb7vyIP8rQpL0I47P3qUsEKX3.jpg',\n",
       " 'https://image.tmdb.org/t/p/w500/r7vmZjiyZw9rpJMQJdXpjgiCOk9.jpg',\n",
       " 'https://image.tmdb.org/t/p/w500/8tZYtuWezp8JbcsvHYO0O46tFbo.jpg',\n",
       " 'https://image.tmdb.org/t/p/w500/rhr4y79GpxQF9IsfJItRXVaoGs4.jpg',\n",
       " 'https://image.tmdb.org/t/p/w500/z8onk7LV9Mmw6zKz4hT6pzzvmvl.jpg',\n",
       " 'https://image.tmdb.org/t/p/w500/kScdQEwS9jPEdnO23XjGAtaoRcT.jpg',\n",
       " 'https://image.tmdb.org/t/p/w500/4FAA18ZIja70d1Tu5hr5cj2q1sB.jpg',\n",
       " 'https://image.tmdb.org/t/p/w500/2mxS4wUimwlLmI1xp6QW6NSU361.jpg',\n",
       " 'https://image.tmdb.org/t/p/w500/oZRVDpNtmHk8M1VYy1aeOWUXgbC.jpg',\n",
       " 'https://image.tmdb.org/t/p/w500/rAGiXaUfPzY7CDEyNKUofk3Kw2e.jpg',\n",
       " 'https://image.tmdb.org/t/p/w500/6uSPcdGNA2A6vJmCagXkvnutegs.jpg',\n",
       " 'https://image.tmdb.org/t/p/w500/qJ2tW6WMUDux911r6m7haRef0WH.jpg',\n",
       " 'https://image.tmdb.org/t/p/w500/5BHuvQ6p9kfc091Z8RiFNhCwL4b.jpg',\n",
       " 'https://image.tmdb.org/t/p/w500/edv5CZvWj09upOsy2Y6IwDhK8bt.jpg',\n",
       " 'https://image.tmdb.org/t/p/w500/kgwjIb2JDHRhNk13lmSxiClFjVk.jpg',\n",
       " 'https://image.tmdb.org/t/p/w500/5UsK3grJvtQrtzEgqNlDljJW96w.jpg',\n",
       " 'https://image.tmdb.org/t/p/w500/jRXYjXNq0Cs2TcJjLkki24MLp7u.jpg',\n",
       " 'https://image.tmdb.org/t/p/w500/pB8BM7pdSp6B6Ih7QZ4DrQ3PmJK.jpg']"
      ]
     },
     "execution_count": 25,
     "metadata": {},
     "output_type": "execute_result"
    }
   ],
   "source": [
    "# LETS VISUALIZE IT\n",
    "most_pop_det[0]"
   ]
  },
  {
   "cell_type": "code",
   "execution_count": 85,
   "metadata": {},
   "outputs": [],
   "source": [
    "pickle.dump(most_pop_det,open('most_popular.pkl','wb'))"
   ]
  }
 ],
 "metadata": {
  "interpreter": {
   "hash": "17d0cd2c5f67fedce6f29cb96b1e4773c6bc19884525ff9042ac52e2ca933ff7"
  },
  "kernelspec": {
   "display_name": "Python 3.10.1 64-bit",
   "language": "python",
   "name": "python3"
  },
  "language_info": {
   "codemirror_mode": {
    "name": "ipython",
    "version": 3
   },
   "file_extension": ".py",
   "mimetype": "text/x-python",
   "name": "python",
   "nbconvert_exporter": "python",
   "pygments_lexer": "ipython3",
   "version": "3.10.1"
  },
  "orig_nbformat": 4
 },
 "nbformat": 4,
 "nbformat_minor": 2
}
