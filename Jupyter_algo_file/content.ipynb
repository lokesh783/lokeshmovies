{
 "cells": [
  {
   "cell_type": "code",
   "execution_count": 2,
   "metadata": {},
   "outputs": [],
   "source": [
    "# Imports\n",
    "import pandas as pandas_lib\n",
    "import numpy as numpy_lib\n",
    "import matplotlib.pyplot as mat_lib\n",
    "import seaborn as seaborn_lib\n",
    "import pickle \n",
    "from sklearn.feature_extraction.text import TfidfVectorizer\n",
    "from sklearn.metrics.pairwise import sigmoid_kernel\n",
    "from sklearn.feature_extraction.text import CountVectorizer\n",
    "from sklearn.metrics.pairwise import cosine_similarity\n",
    "from ast import literal_eval\n",
    "import requests\n",
    "\n",
    "\n",
    "data = pandas_lib.read_csv(r'D:\\Coding\\Recommendation engine\\Data Files/clean_data.csv')\n",
    "data['overview'] = data['overview'].fillna('')\n",
    "indexes = data.index\n",
    "title = data['original_title']\n",
    "\n",
    "# indices is storing index of each movie\n",
    "indices = pandas_lib.Series(indexes,index=data['original_title'])\n",
    "features = ['cast','crew' , 'keywords','genres']\n",
    "feat = ['id' , 'original_title']\n",
    "mov_and_id = data[feat]\n",
    "\n",
    "\n",
    "# literal_eval(data['crew'][0])\n",
    "# for understanding only\n",
    "\n",
    "for i in features:\n",
    "    data[i] = data[i].apply(literal_eval)\n",
    "    \n",
    "def get_director(x):\n",
    "    for i in x:\n",
    "        if i['job']=='Director':\n",
    "            return i['name'].strip()\n",
    "    else:\n",
    "        return numpy_lib.nan\n",
    "    \n",
    "data['director'] = data['crew'].apply(get_director)\n",
    "\n",
    "def get_actor(x):\n",
    "    names = [i['name'].strip().lower() for i in x if type(x)==list]\n",
    "    # return only 3 or less names         \n",
    "    if len(names)>3:\n",
    "        return names[0:3]\n",
    "    else:\n",
    "        return names\n",
    "        \n",
    "for i in features:\n",
    "    data[i] = data[i].apply(get_actor)\n",
    "    \n",
    "data.dropna(subset=['director'], inplace=True)\n",
    "\n",
    "def create_feature(row):\n",
    "    return ' '.join(row['keywords']) + ' ' + ' '.join(row['cast']) + ' ' + row['director'] + ' ' + ' '.join(row['genres'])\n",
    "\n",
    "data['required_feature'] = data.apply(create_feature,axis=1)\n",
    "cnt = CountVectorizer(stop_words='english')\n",
    "count_matrix = cnt.fit_transform(data['required_feature'])\n",
    "similarities = cosine_similarity(count_matrix,count_matrix)"
   ]
  },
  {
   "cell_type": "code",
   "execution_count": 3,
   "metadata": {},
   "outputs": [
    {
     "data": {
      "text/plain": [
       "array([1.    , 0.1875, 0.1875, ..., 0.    , 0.    , 0.    ])"
      ]
     },
     "execution_count": 3,
     "metadata": {},
     "output_type": "execute_result"
    }
   ],
   "source": [
    "similarities[0]"
   ]
  },
  {
   "cell_type": "code",
   "execution_count": 4,
   "metadata": {},
   "outputs": [],
   "source": [
    "# pickle.dump(similarities,open('content_engine.pkl','wb'))"
   ]
  },
  {
   "cell_type": "code",
   "execution_count": 5,
   "metadata": {},
   "outputs": [
    {
     "data": {
      "text/plain": [
       "(4773, 21)"
      ]
     },
     "execution_count": 5,
     "metadata": {},
     "output_type": "execute_result"
    }
   ],
   "source": [
    "data.shape"
   ]
  },
  {
   "cell_type": "code",
   "execution_count": 6,
   "metadata": {},
   "outputs": [
    {
     "data": {
      "text/plain": [
       "array([[1.        , 0.1875    , 0.1875    , ..., 0.        , 0.        ,\n",
       "        0.        ],\n",
       "       [0.1875    , 1.        , 0.125     , ..., 0.        , 0.        ,\n",
       "        0.        ],\n",
       "       [0.1875    , 0.125     , 1.        , ..., 0.        , 0.16666667,\n",
       "        0.        ],\n",
       "       ...,\n",
       "       [0.        , 0.        , 0.        , ..., 1.        , 0.        ,\n",
       "        0.        ],\n",
       "       [0.        , 0.        , 0.16666667, ..., 0.        , 1.        ,\n",
       "        0.        ],\n",
       "       [0.        , 0.        , 0.        , ..., 0.        , 0.        ,\n",
       "        1.        ]])"
      ]
     },
     "execution_count": 6,
     "metadata": {},
     "output_type": "execute_result"
    }
   ],
   "source": [
    "similarities"
   ]
  }
 ],
 "metadata": {
  "interpreter": {
   "hash": "17d0cd2c5f67fedce6f29cb96b1e4773c6bc19884525ff9042ac52e2ca933ff7"
  },
  "kernelspec": {
   "display_name": "Python 3.10.1 64-bit",
   "language": "python",
   "name": "python3"
  },
  "language_info": {
   "codemirror_mode": {
    "name": "ipython",
    "version": 3
   },
   "file_extension": ".py",
   "mimetype": "text/x-python",
   "name": "python",
   "nbconvert_exporter": "python",
   "pygments_lexer": "ipython3",
   "version": "3.10.1"
  },
  "orig_nbformat": 4
 },
 "nbformat": 4,
 "nbformat_minor": 2
}
